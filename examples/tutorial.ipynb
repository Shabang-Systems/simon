{
 "cells": [
  {
   "cell_type": "code",
   "execution_count": 49,
   "metadata": {},
   "outputs": [],
   "source": [
    "# we now import the package\n",
    "import simon\n",
    "from simon.ingestion import OCRIngester\n",
    "import textwrap\n",
    "from functions import display_query"
   ]
  },
  {
   "cell_type": "code",
   "execution_count": 50,
   "metadata": {},
   "outputs": [],
   "source": [
    "# We are only setting up logging here, making Simon extremely verbose while\n",
    "# muting the warning of most everything else.\n",
    "# When you are debugging with Simon, this is the recommended verbosity.\n",
    "\n",
    "import logging as L\n",
    "\n",
    "LOG_FORMAT = '[%(asctime)s] [%(name)s] [%(levelname)s] %(message)s'\n",
    "L.basicConfig(format=LOG_FORMAT, level=L.WARNING)\n",
    "L.getLogger('simon').setLevel(L.DEBUG)"
   ]
  },
  {
   "attachments": {},
   "cell_type": "markdown",
   "metadata": {},
   "source": [
    "### 1: Simon Setup"
   ]
  },
  {
   "cell_type": "code",
   "execution_count": 52,
   "metadata": {},
   "outputs": [],
   "source": [
    "# IF YOU HAVE A LOCAL .env set up following the example here \n",
    "#   https://github.com/Shabang-Systems/simon/blob/main/.env.example:\n",
    "context = simon.create_context(\"test-uid\")   \n",
    "    # the UID here is an arbiturary string, think about it like database tables.\n",
    "    # Data stored in `AgentContext`s belonging to one UID are not accessible by\n",
    "    # Simon operations initialized with a context belonging to another UID.\n"
   ]
  },
  {
   "cell_type": "code",
   "execution_count": null,
   "metadata": {},
   "outputs": [],
   "source": [
    "# Otherwise:\n",
    "context = simon.create_context(uid=\"test-uid\", openai_api_key=\"sk-your_open_ai_key\", # see above for what the UID is\n",
    "                               db_config={\"host\": \"your db host\",\n",
    "                                          \"port\": 5432,\n",
    "                                          \"user\": \"posgres\",\n",
    "                                          \"password\": \"super secure\",\n",
    "                                          \"database\": \"dbname\"})\n"
   ]
  },
  {
   "attachments": {},
   "cell_type": "markdown",
   "metadata": {},
   "source": [
    "### 2: Datastore"
   ]
  },
  {
   "cell_type": "code",
   "execution_count": null,
   "metadata": {},
   "outputs": [],
   "source": [
    "# Simon manages its data with an object named Datastore:\n",
    "\n",
    "ds = simon.Datastore(context)"
   ]
  },
  {
   "cell_type": "code",
   "execution_count": 53,
   "metadata": {},
   "outputs": [
    {
     "name": "stderr",
     "output_type": "stream",
     "text": [
      "[2023-09-11 21:45:34,989] [simon] [INFO] OCR Ingesting Remote https://www.math.uci.edu/admission...\n",
      "[2023-09-11 21:45:34,992] [simon] [DEBUG] Hash is found in the cache; we are done.\n"
     ]
    }
   ],
   "source": [
    "# You pass this function an URL (PDF, png, or website are all fine, we can OCR)\n",
    "# and a \"title\" identifying the document. \n",
    "# Now, we pass a website into the function\n",
    "doc_hash = ds.store_remote(\n",
    "    \"https://www.math.uci.edu/admission\", \"UCI Math Admission\")"
   ]
  },
  {
   "cell_type": "code",
   "execution_count": 54,
   "metadata": {},
   "outputs": [
    {
     "name": "stderr",
     "output_type": "stream",
     "text": [
      "[2023-09-11 21:47:42,053] [simon] [INFO] Indexing d7abfc8321855beef6696aa4111e7848896d7ae9a7f6dc28c9e598a49d012884...\n",
      "[2023-09-11 21:47:42,054] [simon] [INFO] Bulk indexing 1 documents...\n",
      "[2023-09-11 21:47:42,055] [simon] [DEBUG] Identifying already indexed documents...\n",
      "[2023-09-11 21:47:42,057] [simon] [DEBUG] All of 1 documents are all indexed. Returning...\n",
      "[2023-09-11 21:47:42,058] [simon] [INFO] Deleting document by the hash of d7abfc8321855beef6696aa4111e7848896d7ae9a7f6dc28c9e598a49d012884!\n"
     ]
    }
   ],
   "source": [
    "# String Literals can also be stored into Datastore \n",
    "doc_hash2 = ds.store_text(\"words words words\", \"title of the words\", \"source text here\")\n",
    "# Perhaps unsuprisingly, you can forget this document you just created from Simon's\n",
    "# memory by\n",
    "\n",
    "ds.delete(doc_hash2)\n"
   ]
  },
  {
   "attachments": {},
   "cell_type": "markdown",
   "metadata": {},
   "source": [
    "### 3:Search"
   ]
  },
  {
   "cell_type": "code",
   "execution_count": 55,
   "metadata": {},
   "outputs": [],
   "source": [
    "# to first create a Search object:\n",
    "search = simon.Search(context)"
   ]
  },
  {
   "cell_type": "code",
   "execution_count": 56,
   "metadata": {},
   "outputs": [
    {
     "name": "stderr",
     "output_type": "stream",
     "text": [
      "[2023-09-11 21:48:32,148] [simon] [INFO] Serving query \"Is GRE subject test score required?\"...\n",
      "[2023-09-11 21:48:32,149] [simon] [INFO] Semantic searching for query \"('Is GRE subject test score required?',)\"...\n",
      "[2023-09-11 21:48:32,799] [simon] [DEBUG] Final search queries \"['Is GRE subject test score required?']\"...\n",
      "[2023-09-11 21:48:32,799] [simon] [DEBUG] fufilling search request for ['Is GRE subject test score required?']...\n",
      "[2023-09-11 21:48:32,800] [simon] [DEBUG] building queries for ['Is GRE subject test score required?']...\n",
      "[2023-09-11 21:48:32,800] [simon] [DEBUG] building embeddings for ['Is GRE subject test score required?']...\n",
      "[2023-09-11 21:48:33,075] [simon] [DEBUG] executing ['Is GRE subject test score required?']...\n",
      "[2023-09-11 21:48:33,096] [simon] [DEBUG] assembling results for ['Is GRE subject test score required?']...\n",
      "[2023-09-11 21:48:33,097] [simon] [DEBUG] done with ['Is GRE subject test score required?']...\n",
      "[2023-09-11 21:48:33,097] [simon] [DEBUG] Results identified for \"('Is GRE subject test score required?',)\" Got 16 results.\n",
      "[2023-09-11 21:48:33,097] [simon] [DEBUG] Filtering complete for \"('Is GRE subject test score required?',)\". 15 results remain.\n",
      "[2023-09-11 21:48:33,098] [simon] [DEBUG] Assembling chunks for \"('Is GRE subject test score required?',)\"...\n",
      "[2023-09-11 21:48:33,100] [simon] [DEBUG] All done now. Returning.\n",
      "[2023-09-11 21:48:33,101] [simon] [DEBUG] Search on \"Is GRE subject test score required?\" complete\n",
      "[2023-09-11 21:48:33,103] [simon] [DEBUG] Starting reasoning request!!!\n",
      "[2023-09-11 21:48:41,665] [simon] [DEBUG] All done now with reasoning\n",
      "[2023-09-11 21:48:41,666] [simon] [DEBUG] Query complete for \"Is GRE subject test score required?\"\n"
     ]
    }
   ],
   "source": [
    "# There are four types of search one can do. The most powerful, and the big event\n",
    "# of Simon is the `query` type search\n",
    "result = search.query(\"Is GRE subject test score required?\")"
   ]
  },
  {
   "cell_type": "code",
   "execution_count": 57,
   "metadata": {},
   "outputs": [
    {
     "name": "stdout",
     "output_type": "stream",
     "text": [
      "The GRE subject test score in Mathematics is\n",
      "generally required for MS & PhD applicants [14].\n",
      "However, due to limited test site availability or\n",
      "other uncontrollable reasons, there is an\n",
      "exceptional policy that might allow you to submit\n",
      "your application without it [28]. If your GRE\n",
      "subject score is in a subject other than math, you\n",
      "should consult with Professor Solna [9].\n"
     ]
    }
   ],
   "source": [
    "# print the answer of your query\n",
    "\n",
    "print(textwrap.fill(result['answer'], 50))"
   ]
  },
  {
   "cell_type": "code",
   "execution_count": 59,
   "metadata": {},
   "outputs": [
    {
     "name": "stdout",
     "output_type": "stream",
     "text": [
      "Source 14:  GRE subject exam in Mathematics – Official scores\n",
      "are required for the Subject GRE exam, taken\n",
      "within the last five years for MS & PhD\n",
      "applicants. \n",
      "\n",
      "Source 28:  As an exceptional policy, should you not be able\n",
      "to take this exam for reasons beyond your control,\n",
      "such as the need for significant travel, we still\n",
      "encourage you to submit your application to UCI. \n",
      "\n",
      "Source 9:  *If you are applying to the Math PhD program, and\n",
      "you have obtained a Subject GRE score in a subject\n",
      "other than math, please contact Professor Solna\n",
      "ksolna@math.uci.edu for further consultation.\n"
     ]
    }
   ],
   "source": [
    "# print the corresponding sources for the answer, which are quotes from the original text.\n",
    "print('Source 14: ', textwrap.fill(result['answer_resources'][14]['quote'], 50), '\\n')\n",
    "\n",
    "print('Source 28: ' ,textwrap.fill(result['answer_resources'][28]['quote'], 50), '\\n')\n",
    "\n",
    "print('Source 9: ' ,textwrap.fill(result['answer_resources'][9]['quote'], 50))"
   ]
  },
  {
   "attachments": {},
   "cell_type": "markdown",
   "metadata": {},
   "source": [
    "### 4: Ingesters"
   ]
  },
  {
   "cell_type": "code",
   "execution_count": 60,
   "metadata": {},
   "outputs": [
    {
     "name": "stderr",
     "output_type": "stream",
     "text": [
      "[2023-09-11 21:55:19,140] [simon] [INFO] OCR Ingesting Remote https://www.math.uci.edu/sites/default/files/Math%20Graduate%20Student%20Handbook%20UCI_4.pdf...\n",
      "[2023-09-11 21:55:19,141] [simon] [DEBUG] Hash is found in the cache; we are done.\n"
     ]
    },
    {
     "data": {
      "text/plain": [
       "'a7aa38d16add41e9fab0fbed7d54619bed1ed8ab844f7424cb3e8906073dfbf0'"
      ]
     },
     "execution_count": 60,
     "metadata": {},
     "output_type": "execute_result"
    }
   ],
   "source": [
    "# Simon makes available a suite of ingesters to read all sorts of resources.\n",
    "# You can use these IN LIEU or IN CONJUNCTION with the datastore ingestion\n",
    "# example above. They are most helpful with bulk ingestion.\n",
    "# To replicate the example store operation above using the ingester API:\n",
    "ingester = OCRIngester(context)\n",
    "ingester.ingest_remote(\n",
    "    \"https://www.math.uci.edu/sites/default/files/Math%20Graduate%20Student%20Handbook%20UCI_4.pdf\", \n",
    "    \"Graduate Handbook\")"
   ]
  },
  {
   "cell_type": "code",
   "execution_count": 61,
   "metadata": {},
   "outputs": [
    {
     "name": "stderr",
     "output_type": "stream",
     "text": [
      "[2023-09-11 21:55:50,942] [simon] [INFO] Serving query \"What happens if I got B- for Math 210A?\"...\n",
      "[2023-09-11 21:55:50,943] [simon] [INFO] Semantic searching for query \"('What happens if I got B- for Math 210A?',)\"...\n",
      "[2023-09-11 21:55:51,862] [simon] [DEBUG] Final search queries \"['What happens if I got a B- in Math 210A?']\"...\n",
      "[2023-09-11 21:55:51,863] [simon] [DEBUG] fufilling search request for ['What happens if I got a B- in Math 210A?']...\n",
      "[2023-09-11 21:55:51,863] [simon] [DEBUG] building queries for ['What happens if I got a B- in Math 210A?']...\n",
      "[2023-09-11 21:55:51,864] [simon] [DEBUG] building embeddings for ['What happens if I got a B- in Math 210A?']...\n",
      "[2023-09-11 21:55:52,023] [simon] [DEBUG] executing ['What happens if I got a B- in Math 210A?']...\n",
      "[2023-09-11 21:55:52,036] [simon] [DEBUG] assembling results for ['What happens if I got a B- in Math 210A?']...\n",
      "[2023-09-11 21:55:52,037] [simon] [DEBUG] done with ['What happens if I got a B- in Math 210A?']...\n",
      "[2023-09-11 21:55:52,038] [simon] [DEBUG] Results identified for \"('What happens if I got B- for Math 210A?',)\" Got 16 results.\n",
      "[2023-09-11 21:55:52,039] [simon] [DEBUG] Filtering complete for \"('What happens if I got B- for Math 210A?',)\". 15 results remain.\n",
      "[2023-09-11 21:55:52,039] [simon] [DEBUG] Assembling chunks for \"('What happens if I got B- for Math 210A?',)\"...\n",
      "[2023-09-11 21:55:52,044] [simon] [DEBUG] All done now. Returning.\n",
      "[2023-09-11 21:55:52,045] [simon] [DEBUG] Search on \"What happens if I got B- for Math 210A?\" complete\n",
      "[2023-09-11 21:55:52,049] [simon] [DEBUG] Starting reasoning request!!!\n",
      "[2023-09-11 21:55:56,902] [simon] [DEBUG] All done now with reasoning\n",
      "[2023-09-11 21:55:56,903] [simon] [DEBUG] Query complete for \"What happens if I got B- for Math 210A?\"\n"
     ]
    }
   ],
   "source": [
    "# Query again after ingestion\n",
    "result = search.query(\"What happens if I got B- for Math 210A?\")"
   ]
  },
  {
   "cell_type": "code",
   "execution_count": 62,
   "metadata": {},
   "outputs": [
    {
     "name": "stdout",
     "output_type": "stream",
     "text": [
      "If you got a B- for Math 210A, you can request for\n",
      "an exception as it is used for a course\n",
      "requirement [3].\n"
     ]
    }
   ],
   "source": [
    "# print the answer\n",
    "print(textwrap.fill(result['answer'], 50))\n"
   ]
  },
  {
   "cell_type": "code",
   "execution_count": 63,
   "metadata": {},
   "outputs": [
    {
     "name": "stdout",
     "output_type": "stream",
     "text": [
      "Source 3:  Generally (1) exception can be requested for a B-\n",
      "if it is used for a course requirement (MS or\n",
      "PhD). \n",
      "\n"
     ]
    }
   ],
   "source": [
    "# get the source for the answer\n",
    "print('Source 3: ', textwrap.fill(result['answer_resources'][3]['quote'], 50), '\\n')"
   ]
  },
  {
   "cell_type": "code",
   "execution_count": 64,
   "metadata": {},
   "outputs": [
    {
     "name": "stderr",
     "output_type": "stream",
     "text": [
      "[2023-09-11 21:56:35,966] [simon] [INFO] Serving query \"Do I have to choose an advisor in the end of my first year?\"...\n",
      "[2023-09-11 21:56:35,966] [simon] [INFO] Semantic searching for query \"('Do I have to choose an advisor in the end of my first year?',)\"...\n",
      "[2023-09-11 21:56:37,024] [simon] [DEBUG] Final search queries \"['Do I need to select an advisor at the end of my first year?']\"...\n",
      "[2023-09-11 21:56:37,024] [simon] [DEBUG] fufilling search request for ['Do I need to select an advisor at the end of my first year?']...\n",
      "[2023-09-11 21:56:37,024] [simon] [DEBUG] building queries for ['Do I need to select an advisor at the end of my first year?']...\n",
      "[2023-09-11 21:56:37,025] [simon] [DEBUG] building embeddings for ['Do I need to select an advisor at the end of my first year?']...\n",
      "[2023-09-11 21:56:37,122] [simon] [DEBUG] executing ['Do I need to select an advisor at the end of my first year?']...\n",
      "[2023-09-11 21:56:37,138] [simon] [DEBUG] assembling results for ['Do I need to select an advisor at the end of my first year?']...\n",
      "[2023-09-11 21:56:37,139] [simon] [DEBUG] done with ['Do I need to select an advisor at the end of my first year?']...\n",
      "[2023-09-11 21:56:37,139] [simon] [DEBUG] Results identified for \"('Do I have to choose an advisor in the end of my first year?',)\" Got 16 results.\n",
      "[2023-09-11 21:56:37,139] [simon] [DEBUG] Filtering complete for \"('Do I have to choose an advisor in the end of my first year?',)\". 16 results remain.\n",
      "[2023-09-11 21:56:37,140] [simon] [DEBUG] Assembling chunks for \"('Do I have to choose an advisor in the end of my first year?',)\"...\n",
      "[2023-09-11 21:56:37,142] [simon] [DEBUG] All done now. Returning.\n",
      "[2023-09-11 21:56:37,142] [simon] [DEBUG] Search on \"Do I have to choose an advisor in the end of my first year?\" complete\n",
      "[2023-09-11 21:56:37,145] [simon] [DEBUG] Starting reasoning request!!!\n",
      "[2023-09-11 21:56:44,878] [simon] [DEBUG] All done now with reasoning\n",
      "[2023-09-11 21:56:44,879] [simon] [DEBUG] Query complete for \"Do I have to choose an advisor in the end of my first year?\"\n"
     ]
    }
   ],
   "source": [
    "# query again\n",
    "result = search.query(\"Do I have to choose an advisor in the end of my first year?\")"
   ]
  },
  {
   "cell_type": "code",
   "execution_count": 65,
   "metadata": {},
   "outputs": [
    {
     "name": "stdout",
     "output_type": "stream",
     "text": [
      "No, you don't have to choose an advisor at the end\n",
      "of your first year. You should choose an advisor\n",
      "at the latest by the beginning of your 3rd year\n",
      "[15]. By this time, you should have already\n",
      "finished your Qualifying exams [16] and have been\n",
      "exposed to many of the professors and their\n",
      "research [17].\n"
     ]
    }
   ],
   "source": [
    "print(textwrap.fill(result['answer'], 50))"
   ]
  },
  {
   "cell_type": "code",
   "execution_count": 66,
   "metadata": {},
   "outputs": [
    {
     "name": "stdout",
     "output_type": "stream",
     "text": [
      "Source 15:  You should choose an advisor at the latest by the\n",
      "beginning of your 3rd year. \n",
      "\n",
      "Source 17:  You should have been exposed to many of the\n",
      "professors and their research from the graduate\n",
      "seminar.\n"
     ]
    }
   ],
   "source": [
    "print('Source 15: ', textwrap.fill(result['answer_resources'][15]['quote'], 50), '\\n')\n",
    "\n",
    "print('Source 17: ' ,textwrap.fill(result['answer_resources'][17]['quote'], 50))"
   ]
  },
  {
   "attachments": {},
   "cell_type": "markdown",
   "metadata": {},
   "source": [
    "#### 5: Display long answer with more sources as HTML"
   ]
  },
  {
   "cell_type": "code",
   "execution_count": 67,
   "metadata": {},
   "outputs": [
    {
     "name": "stderr",
     "output_type": "stream",
     "text": [
      "[2023-09-11 21:56:56,562] [simon] [INFO] Serving query \"What are the requirements to complete my Ph.D. program?\"...\n",
      "[2023-09-11 21:56:56,563] [simon] [INFO] Semantic searching for query \"('What are the requirements to complete my Ph.D. program?',)\"...\n",
      "[2023-09-11 21:56:57,094] [simon] [DEBUG] Final search queries \"['Ph.D. program requirements']\"...\n",
      "[2023-09-11 21:56:57,095] [simon] [DEBUG] fufilling search request for ['Ph.D. program requirements']...\n",
      "[2023-09-11 21:56:57,095] [simon] [DEBUG] building queries for ['Ph.D. program requirements']...\n",
      "[2023-09-11 21:56:57,095] [simon] [DEBUG] building embeddings for ['Ph.D. program requirements']...\n",
      "[2023-09-11 21:56:57,232] [simon] [DEBUG] executing ['Ph.D. program requirements']...\n",
      "[2023-09-11 21:56:57,243] [simon] [DEBUG] assembling results for ['Ph.D. program requirements']...\n",
      "[2023-09-11 21:56:57,244] [simon] [DEBUG] done with ['Ph.D. program requirements']...\n",
      "[2023-09-11 21:56:57,244] [simon] [DEBUG] Results identified for \"('What are the requirements to complete my Ph.D. program?',)\" Got 16 results.\n",
      "[2023-09-11 21:56:57,244] [simon] [DEBUG] Filtering complete for \"('What are the requirements to complete my Ph.D. program?',)\". 15 results remain.\n",
      "[2023-09-11 21:56:57,244] [simon] [DEBUG] Assembling chunks for \"('What are the requirements to complete my Ph.D. program?',)\"...\n",
      "[2023-09-11 21:56:57,246] [simon] [DEBUG] All done now. Returning.\n",
      "[2023-09-11 21:56:57,246] [simon] [DEBUG] Search on \"What are the requirements to complete my Ph.D. program?\" complete\n",
      "[2023-09-11 21:56:57,248] [simon] [DEBUG] Starting reasoning request!!!\n",
      "[2023-09-11 21:57:12,065] [simon] [DEBUG] All done now with reasoning\n",
      "[2023-09-11 21:57:12,065] [simon] [DEBUG] Query complete for \"What are the requirements to complete my Ph.D. program?\"\n"
     ]
    }
   ],
   "source": [
    "result = search.query(\"What are the requirements to complete my Ph.D. program?\")"
   ]
  },
  {
   "cell_type": "code",
   "execution_count": 45,
   "metadata": {},
   "outputs": [
    {
     "name": "stdout",
     "output_type": "stream",
     "text": [
      "Query Result:  /Users/zhijianli/Desktop/test_simon//simon_result.html\n"
     ]
    }
   ],
   "source": [
    "# display the results as html\n",
    "display_query(result)"
   ]
  }
 ],
 "metadata": {
  "kernelspec": {
   "display_name": "base",
   "language": "python",
   "name": "python3"
  },
  "language_info": {
   "codemirror_mode": {
    "name": "ipython",
    "version": 3
   },
   "file_extension": ".py",
   "mimetype": "text/x-python",
   "name": "python",
   "nbconvert_exporter": "python",
   "pygments_lexer": "ipython3",
   "version": "3.11.4"
  },
  "orig_nbformat": 4
 },
 "nbformat": 4,
 "nbformat_minor": 2
}
