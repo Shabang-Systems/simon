{
 "cells": [
  {
   "cell_type": "code",
   "execution_count": 34,
   "metadata": {},
   "outputs": [
    {
     "name": "stdout",
     "output_type": "stream",
     "text": [
      "Stored page https://www.jemoka.com/posts/kbhistudio_meeting_nodes/ with hash 507a1fe409921baa6547a204e8e61d86f5fcbab723d5f55cee76becaf1040169\n",
      "Stored page https://www.jemoka.com/posts/kbhmaking_qubits_interact/ with hash 4d99a52ba78231e3dba6d1665d3e871457580c11d56b6b1d39688919f6fbbf51\n",
      "Stored page https://www.jemoka.com/posts/kbhpoint_estimate/ with hash 507a1fe409921baa6547a204e8e61d86f5fcbab723d5f55cee76becaf1040169\n",
      "Stored page https://www.jemoka.com/posts/kbhproperties_of_the_stable_matching_algorithm/ with hash 7360c35693ea22fc979f664bb22a248fb74a6d83d8c270185ab9a2dd0fde5c13\n",
      "Stored page https://www.jemoka.com/posts/kbhrnn_notes/ with hash 4cd8f49c0c4c1e9ec10fe325cda7d97306116a0509e3b5b0bcb1a33d3afaead4\n"
     ]
    }
   ],
   "source": [
    "# Import necessary libraries\n",
    "import requests\n",
    "import xml.etree.ElementTree as ET\n",
    "import simon\n",
    "\n",
    "# Create a Simon context\n",
    "context = simon.create_context(\"test-uid\")\n",
    "\n",
    "# Create a Simon datastore\n",
    "ds = simon.Datastore(context)\n",
    "\n",
    "# Define the URL to fetch\n",
    "sitemap_url = \"https://www.jemoka.com/sitemap.xml\"\n",
    "\n",
    "# Send a GET request to fetch the sitemap\n",
    "response = requests.get(sitemap_url)\n",
    "\n",
    "# Check if the request was successful (status code 200)\n",
    "if response.status_code == 200:\n",
    "    # Parse the XML content\n",
    "    root = ET.fromstring(response.content)\n",
    "\n",
    "    # Counter to limit output to 5 lines to make sure we get the response\n",
    "    count = 0\n",
    "\n",
    "    # Loop through the URLs \n",
    "    for url_element in root.findall(\".//{http://www.sitemaps.org/schemas/sitemap/0.9}loc\"):\n",
    "        page_url = url_element.text\n",
    "\n",
    "        # Store each page \n",
    "        doc_hash = ds.store_remote(page_url, \"Web Page\")\n",
    "\n",
    "        # Print the result\n",
    "        print(f\"Stored page {page_url} with hash {doc_hash}\")\n",
    "\n",
    "        # Increment the counter\n",
    "        count += 1\n",
    "\n",
    "        # Limit output to 5 lines cause there are lots of lines \n",
    "        if count >= 5:\n",
    "            break\n",
    "else:\n",
    "    print(f\"Failed to fetch sitemap. Status code: {response.status_code}\")"
   ]
  },
  {
   "cell_type": "markdown",
   "metadata": {},
   "source": [
    "# This is how to use Simon to search for information on the stored web pages."
   ]
  },
  {
   "cell_type": "code",
   "execution_count": 36,
   "metadata": {},
   "outputs": [
    {
     "name": "stdout",
     "output_type": "stream",
     "text": [
      "Simon's Answer:\n",
      "The main content of the page is about writing a scientific article [7]. It provides a structure for the article and discusses the goals of each section [10]. The page goes into detail about each section, including the introduction, motivation, background, methods, results, conclusion, and ethics [21].\n",
      "\n",
      "Search Results:\n",
      "1. Title: No title\n",
      "   Snippet: No snippet\n",
      "\n",
      "2. Title: No title\n",
      "   Snippet: No snippet\n",
      "\n",
      "3. Title: No title\n",
      "   Snippet: No snippet\n",
      "\n",
      "4. Title: No title\n",
      "   Snippet: No snippet\n",
      "\n",
      "5. Title: No title\n",
      "   Snippet: No snippet\n",
      "\n"
     ]
    }
   ],
   "source": [
    "# Import the Simon Search module\n",
    "from simon.search import Search\n",
    "\n",
    "# Create a Simon Search object\n",
    "search = Search(context)\n",
    "\n",
    "# Define a query\n",
    "search_query = \"what is the main content in this page?\"  # You can replace with your query, this is a example\n",
    "\n",
    "# Perform a search using Simon\n",
    "search_result = search.query(search_query)\n",
    "\n",
    "# Access the answer and search results\n",
    "answer = search_result.get(\"answer\", \"No answer found.\")\n",
    "search_results = search_result.get(\"search_results\", [])\n",
    "\n",
    "# Print the answer\n",
    "print(\"Simon's Answer:\")\n",
    "print(answer)\n",
    "\n",
    "# Print the search results\n",
    "print(\"\\nSearch Results:\")\n",
    "for index, result in enumerate(search_results, start=1):\n",
    "    title = result.get(\"Title\", \"No title\")\n",
    "    snippet = result.get(\"snippet\", \"No snippet\")\n",
    "    print(f\"{index}. Title: {title}\")\n",
    "    print(f\"   Snippet: {snippet}\\n\")"
   ]
  },
  {
   "cell_type": "markdown",
   "metadata": {},
   "source": [
    "Brainstorm Example below:"
   ]
  },
  {
   "cell_type": "code",
   "execution_count": null,
   "metadata": {},
   "outputs": [
    {
     "name": "stdout",
     "output_type": "stream",
     "text": [
      "Question 1: {'headline': '\"Writing AML Article Guide\"', 'relavent_input': '\\nThe main content of this page is a comprehensive guide on writing your first article', 'resource': {'quote': 'Web Page AML: Your First ArticleHoujun Liu\\nAML: Your First Articletable of contentsexemplar we discussedoverall goalsdiscussion per sectionabstractintro/motivation/backgroundmethodsresults/dataconclusion/discussionethicsfrom the expertsHello y’all!', 'chunk': {'text': 'AML: Your First ArticleHoujun Liu\\nAML: Your First Articletable of contentsexemplar we discussedoverall goalsdiscussion per sectionabstractintro/motivation/backgroundmethodsresults/dataconclusion/discussionethicsfrom the expertsHello y’all! This quick post about&mldr; writing your first “article” (ahem, MA) for this class. To me, the most rewarding part of our journey together is to be able to support everyone through writing very presentable reports—even if it is on old or simple problems—but in the format from which you can easily jump off and write a fully-blown scientific article in the future.exemplar we discussed(Kameswari, Sravani, and Mamidi 2020)I should add that, despite the word being used, this is by no means the only way that you can write a wonderful scientific article. It just had the right structure for us to go over in class :)overall goalsWe want to make reports that are clear (easily understandable for audience), concise (only uses words when needed, prioritizing figures and intuition), and precise (when making claims, they are supported clearly with data). And so, the following sections focus mostly on improving those three criteria.discussion per sectionLet’s now switch to bullet-point format, going over some ideas of how to make strong sections:abstractGuiding Questions: What is your study about? What did you do? How well did it work?more jargon here is OK, but should be immediately summative of your whole studyonly use enough jargon to make it concise: this section should be crystal clear for everyone of your academic peers (i.e. anyone in our class/familiar with ML)it should be easily skimmableintro/motivation/backgroundGuiding Questions: Why are you making big picture choices you made? Did anyone do it before you? How did they do it? What changes are you making (for this class, “none” is acceptable)?immediately, you should state what you are trying to do and why its worthwhile of your reader’s timekeep the goal scope small: not “cancer is an sickness that affects a lot of people”, but “this specific gene is correlated with cancer prognosis”justify why you are using AML tools! if the relationship you are modeling is a line, deep learning is way overkillsummarize previous work: if anyone did it before you, what approach did they do; why? Are you/why are you doing anything difference (i.e. why do you believe methods to be not as good?)methodsGuiding Questions: How did you do your study?give as much information for a peer (i.e. anyone in our class/familiar with ML) to be able to reproduce your entire studygood to think about&mldr;data sourcingdetailed notes on data preparation and feature engineering (bonus points for code)model selection + motivation (should be broadly given in the prev. section already)model implementation (layer counts, activations, seeds)(hyper)parameters (LR, batch size, epoch, optimizer momentum/beta, layer seeds) — saying “default” here is fine but be specific about what you are leaving to defaulttraining environment (hardware, library versions, time it took, etc.)Also, from a class standpoint, we want to see your hard work in actually practicing the skills we are learning!results/dataGuiding Questions: Why should your peer believe you did what you said you did?motivate validation metrics used (i.e. why is success in this validation metric a measurement by proxy of success in the stated problem in the intro?)report the clear details the withholding scheme used—simple train/val split? k-fold? leave-one-out?present in graphical or tabular form! your clear key takeaways; in general, keep words in this section to a minimum“these distributions look visually different!”“these lines are definitely parallel!”“this number is definitely larger than this other number!”During the process of “NTJ”, a paper reading methodology taught by the XRT lab, the skill of jumping abstract => data (“figures”) => takeaways (“novelty”) is greatly emphasized. Usually, the best papers will represent their key takeaways clearly and graphically in this section, so that the reader only need to go into the methods section strictly when needed to reproduce or clarify questions.conclusion/discussionGuiding Questions: Summarize.It is often good to include future work here as well as well as fascinating extensions of your choosing. This section differs from the abstract in both the inclusion of future work, as well as its audience: while the abstract need only to be crystal clear for your peers, the conclusion should be clear to everyone in the field — so redefinition of paper-specific jargon, etc.ethicsGuiding Questions: Where did your data come from; why is its collection and processing (they are independent permissions!) legal and ethical? Why are you not breaking the world?See: this Medium article for more!from the expertsNIPS (leading ML conference) rubric for a paper (jump to “Review Content” section)Kameswari, Lalitha, Dama Sravani, and Radhika Mamidi. 2020. “Enhancing Bias Detection in Political News Using Pragmatic Presupposition.” In Proceedings of the Eighth International Workshop on Natural Language Processing for Social Media, nil. doi:10.18653/v1/2020.socialnlp-1.1.© 2019-2023 Houjun Liu. Licensed CC BY-NC-SA 4.0.', 'metadata': {'source': 'https://www.jemoka.com/posts/kbhaml_your_first_article/', 'hash': '96bbe906ad6b97f16b4d9493aee64ee1390bcca3572c22c8e467a13bc068147a', 'title': 'Web Page'}}}}\n",
      "Question 2: {'headline': '\"Structure of AML Article\"', 'relavent_input': 'It provides detailed instructions on how to structure the report', 'resource': {'quote': 'This quick post about&mldr; writing your first “article” (ahem, MA) for this class.', 'chunk': {'text': 'AML: Your First ArticleHoujun Liu\\nAML: Your First Articletable of contentsexemplar we discussedoverall goalsdiscussion per sectionabstractintro/motivation/backgroundmethodsresults/dataconclusion/discussionethicsfrom the expertsHello y’all! This quick post about&mldr; writing your first “article” (ahem, MA) for this class. To me, the most rewarding part of our journey together is to be able to support everyone through writing very presentable reports—even if it is on old or simple problems—but in the format from which you can easily jump off and write a fully-blown scientific article in the future.exemplar we discussed(Kameswari, Sravani, and Mamidi 2020)I should add that, despite the word being used, this is by no means the only way that you can write a wonderful scientific article. It just had the right structure for us to go over in class :)overall goalsWe want to make reports that are clear (easily understandable for audience), concise (only uses words when needed, prioritizing figures and intuition), and precise (when making claims, they are supported clearly with data). And so, the following sections focus mostly on improving those three criteria.discussion per sectionLet’s now switch to bullet-point format, going over some ideas of how to make strong sections:abstractGuiding Questions: What is your study about? What did you do? How well did it work?more jargon here is OK, but should be immediately summative of your whole studyonly use enough jargon to make it concise: this section should be crystal clear for everyone of your academic peers (i.e. anyone in our class/familiar with ML)it should be easily skimmableintro/motivation/backgroundGuiding Questions: Why are you making big picture choices you made? Did anyone do it before you? How did they do it? What changes are you making (for this class, “none” is acceptable)?immediately, you should state what you are trying to do and why its worthwhile of your reader’s timekeep the goal scope small: not “cancer is an sickness that affects a lot of people”, but “this specific gene is correlated with cancer prognosis”justify why you are using AML tools! if the relationship you are modeling is a line, deep learning is way overkillsummarize previous work: if anyone did it before you, what approach did they do; why? Are you/why are you doing anything difference (i.e. why do you believe methods to be not as good?)methodsGuiding Questions: How did you do your study?give as much information for a peer (i.e. anyone in our class/familiar with ML) to be able to reproduce your entire studygood to think about&mldr;data sourcingdetailed notes on data preparation and feature engineering (bonus points for code)model selection + motivation (should be broadly given in the prev. section already)model implementation (layer counts, activations, seeds)(hyper)parameters (LR, batch size, epoch, optimizer momentum/beta, layer seeds) — saying “default” here is fine but be specific about what you are leaving to defaulttraining environment (hardware, library versions, time it took, etc.)Also, from a class standpoint, we want to see your hard work in actually practicing the skills we are learning!results/dataGuiding Questions: Why should your peer believe you did what you said you did?motivate validation metrics used (i.e. why is success in this validation metric a measurement by proxy of success in the stated problem in the intro?)report the clear details the withholding scheme used—simple train/val split? k-fold? leave-one-out?present in graphical or tabular form! your clear key takeaways; in general, keep words in this section to a minimum“these distributions look visually different!”“these lines are definitely parallel!”“this number is definitely larger than this other number!”During the process of “NTJ”, a paper reading methodology taught by the XRT lab, the skill of jumping abstract => data (“figures”) => takeaways (“novelty”) is greatly emphasized. Usually, the best papers will represent their key takeaways clearly and graphically in this section, so that the reader only need to go into the methods section strictly when needed to reproduce or clarify questions.conclusion/discussionGuiding Questions: Summarize.It is often good to include future work here as well as well as fascinating extensions of your choosing. This section differs from the abstract in both the inclusion of future work, as well as its audience: while the abstract need only to be crystal clear for your peers, the conclusion should be clear to everyone in the field — so redefinition of paper-specific jargon, etc.ethicsGuiding Questions: Where did your data come from; why is its collection and processing (they are independent permissions!) legal and ethical? Why are you not breaking the world?See: this Medium article for more!from the expertsNIPS (leading ML conference) rubric for a paper (jump to “Review Content” section)Kameswari, Lalitha, Dama Sravani, and Radhika Mamidi. 2020. “Enhancing Bias Detection in Political News Using Pragmatic Presupposition.” In Proceedings of the Eighth International Workshop on Natural Language Processing for Social Media, nil. doi:10.18653/v1/2020.socialnlp-1.1.© 2019-2023 Houjun Liu. Licensed CC BY-NC-SA 4.0.', 'metadata': {'source': 'https://www.jemoka.com/posts/kbhaml_your_first_article/', 'hash': '96bbe906ad6b97f16b4d9493aee64ee1390bcca3572c22c8e467a13bc068147a', 'title': 'Web Page'}}}}\n",
      "Question 3: {'headline': '\"Importance of Clear Writing\"', 'relavent_input': 'The guide also emphasizes the importance of clear', 'resource': {'quote': 'It just had the right structure for us to go over in class :)overall goalsWe want to make reports that are clear (easily understandable for audience), concise (only uses words when needed, prioritizing figures and intuition), and precise (when making claims, they are supported clearly with data).', 'chunk': {'text': 'AML: Your First ArticleHoujun Liu\\nAML: Your First Articletable of contentsexemplar we discussedoverall goalsdiscussion per sectionabstractintro/motivation/backgroundmethodsresults/dataconclusion/discussionethicsfrom the expertsHello y’all! This quick post about&mldr; writing your first “article” (ahem, MA) for this class. To me, the most rewarding part of our journey together is to be able to support everyone through writing very presentable reports—even if it is on old or simple problems—but in the format from which you can easily jump off and write a fully-blown scientific article in the future.exemplar we discussed(Kameswari, Sravani, and Mamidi 2020)I should add that, despite the word being used, this is by no means the only way that you can write a wonderful scientific article. It just had the right structure for us to go over in class :)overall goalsWe want to make reports that are clear (easily understandable for audience), concise (only uses words when needed, prioritizing figures and intuition), and precise (when making claims, they are supported clearly with data). And so, the following sections focus mostly on improving those three criteria.discussion per sectionLet’s now switch to bullet-point format, going over some ideas of how to make strong sections:abstractGuiding Questions: What is your study about? What did you do? How well did it work?more jargon here is OK, but should be immediately summative of your whole studyonly use enough jargon to make it concise: this section should be crystal clear for everyone of your academic peers (i.e. anyone in our class/familiar with ML)it should be easily skimmableintro/motivation/backgroundGuiding Questions: Why are you making big picture choices you made? Did anyone do it before you? How did they do it? What changes are you making (for this class, “none” is acceptable)?immediately, you should state what you are trying to do and why its worthwhile of your reader’s timekeep the goal scope small: not “cancer is an sickness that affects a lot of people”, but “this specific gene is correlated with cancer prognosis”justify why you are using AML tools! if the relationship you are modeling is a line, deep learning is way overkillsummarize previous work: if anyone did it before you, what approach did they do; why? Are you/why are you doing anything difference (i.e. why do you believe methods to be not as good?)methodsGuiding Questions: How did you do your study?give as much information for a peer (i.e. anyone in our class/familiar with ML) to be able to reproduce your entire studygood to think about&mldr;data sourcingdetailed notes on data preparation and feature engineering (bonus points for code)model selection + motivation (should be broadly given in the prev. section already)model implementation (layer counts, activations, seeds)(hyper)parameters (LR, batch size, epoch, optimizer momentum/beta, layer seeds) — saying “default” here is fine but be specific about what you are leaving to defaulttraining environment (hardware, library versions, time it took, etc.)Also, from a class standpoint, we want to see your hard work in actually practicing the skills we are learning!results/dataGuiding Questions: Why should your peer believe you did what you said you did?motivate validation metrics used (i.e. why is success in this validation metric a measurement by proxy of success in the stated problem in the intro?)report the clear details the withholding scheme used—simple train/val split? k-fold? leave-one-out?present in graphical or tabular form! your clear key takeaways; in general, keep words in this section to a minimum“these distributions look visually different!”“these lines are definitely parallel!”“this number is definitely larger than this other number!”During the process of “NTJ”, a paper reading methodology taught by the XRT lab, the skill of jumping abstract => data (“figures”) => takeaways (“novelty”) is greatly emphasized. Usually, the best papers will represent their key takeaways clearly and graphically in this section, so that the reader only need to go into the methods section strictly when needed to reproduce or clarify questions.conclusion/discussionGuiding Questions: Summarize.It is often good to include future work here as well as well as fascinating extensions of your choosing. This section differs from the abstract in both the inclusion of future work, as well as its audience: while the abstract need only to be crystal clear for your peers, the conclusion should be clear to everyone in the field — so redefinition of paper-specific jargon, etc.ethicsGuiding Questions: Where did your data come from; why is its collection and processing (they are independent permissions!) legal and ethical? Why are you not breaking the world?See: this Medium article for more!from the expertsNIPS (leading ML conference) rubric for a paper (jump to “Review Content” section)Kameswari, Lalitha, Dama Sravani, and Radhika Mamidi. 2020. “Enhancing Bias Detection in Political News Using Pragmatic Presupposition.” In Proceedings of the Eighth International Workshop on Natural Language Processing for Social Media, nil. doi:10.18653/v1/2020.socialnlp-1.1.© 2019-2023 Houjun Liu. Licensed CC BY-NC-SA 4.0.', 'metadata': {'source': 'https://www.jemoka.com/posts/kbhaml_your_first_article/', 'hash': '96bbe906ad6b97f16b4d9493aee64ee1390bcca3572c22c8e467a13bc068147a', 'title': 'Web Page'}}}}\n",
      "Question 4: {'headline': '\"Ethical Considerations in AML\"', 'relavent_input': ' and discusses the ethical considerations related to data collection and processing [31].', 'resource': {'quote': 'This section differs from the abstract in both the inclusion of future work, as well as its audience: while the abstract need only to be crystal clear for your peers, the conclusion should be clear to everyone in the field — so redefinition of paper-specific jargon, etc.ethicsGuiding Questions: Where did your data come from; why is its collection and processing (they are independent permissions!)', 'chunk': {'text': 'AML: Your First ArticleHoujun Liu\\nAML: Your First Articletable of contentsexemplar we discussedoverall goalsdiscussion per sectionabstractintro/motivation/backgroundmethodsresults/dataconclusion/discussionethicsfrom the expertsHello y’all! This quick post about&mldr; writing your first “article” (ahem, MA) for this class. To me, the most rewarding part of our journey together is to be able to support everyone through writing very presentable reports—even if it is on old or simple problems—but in the format from which you can easily jump off and write a fully-blown scientific article in the future.exemplar we discussed(Kameswari, Sravani, and Mamidi 2020)I should add that, despite the word being used, this is by no means the only way that you can write a wonderful scientific article. It just had the right structure for us to go over in class :)overall goalsWe want to make reports that are clear (easily understandable for audience), concise (only uses words when needed, prioritizing figures and intuition), and precise (when making claims, they are supported clearly with data). And so, the following sections focus mostly on improving those three criteria.discussion per sectionLet’s now switch to bullet-point format, going over some ideas of how to make strong sections:abstractGuiding Questions: What is your study about? What did you do? How well did it work?more jargon here is OK, but should be immediately summative of your whole studyonly use enough jargon to make it concise: this section should be crystal clear for everyone of your academic peers (i.e. anyone in our class/familiar with ML)it should be easily skimmableintro/motivation/backgroundGuiding Questions: Why are you making big picture choices you made? Did anyone do it before you? How did they do it? What changes are you making (for this class, “none” is acceptable)?immediately, you should state what you are trying to do and why its worthwhile of your reader’s timekeep the goal scope small: not “cancer is an sickness that affects a lot of people”, but “this specific gene is correlated with cancer prognosis”justify why you are using AML tools! if the relationship you are modeling is a line, deep learning is way overkillsummarize previous work: if anyone did it before you, what approach did they do; why? Are you/why are you doing anything difference (i.e. why do you believe methods to be not as good?)methodsGuiding Questions: How did you do your study?give as much information for a peer (i.e. anyone in our class/familiar with ML) to be able to reproduce your entire studygood to think about&mldr;data sourcingdetailed notes on data preparation and feature engineering (bonus points for code)model selection + motivation (should be broadly given in the prev. section already)model implementation (layer counts, activations, seeds)(hyper)parameters (LR, batch size, epoch, optimizer momentum/beta, layer seeds) — saying “default” here is fine but be specific about what you are leaving to defaulttraining environment (hardware, library versions, time it took, etc.)Also, from a class standpoint, we want to see your hard work in actually practicing the skills we are learning!results/dataGuiding Questions: Why should your peer believe you did what you said you did?motivate validation metrics used (i.e. why is success in this validation metric a measurement by proxy of success in the stated problem in the intro?)report the clear details the withholding scheme used—simple train/val split? k-fold? leave-one-out?present in graphical or tabular form! your clear key takeaways; in general, keep words in this section to a minimum“these distributions look visually different!”“these lines are definitely parallel!”“this number is definitely larger than this other number!”During the process of “NTJ”, a paper reading methodology taught by the XRT lab, the skill of jumping abstract => data (“figures”) => takeaways (“novelty”) is greatly emphasized. Usually, the best papers will represent their key takeaways clearly and graphically in this section, so that the reader only need to go into the methods section strictly when needed to reproduce or clarify questions.conclusion/discussionGuiding Questions: Summarize.It is often good to include future work here as well as well as fascinating extensions of your choosing. This section differs from the abstract in both the inclusion of future work, as well as its audience: while the abstract need only to be crystal clear for your peers, the conclusion should be clear to everyone in the field — so redefinition of paper-specific jargon, etc.ethicsGuiding Questions: Where did your data come from; why is its collection and processing (they are independent permissions!) legal and ethical? Why are you not breaking the world?See: this Medium article for more!from the expertsNIPS (leading ML conference) rubric for a paper (jump to “Review Content” section)Kameswari, Lalitha, Dama Sravani, and Radhika Mamidi. 2020. “Enhancing Bias Detection in Political News Using Pragmatic Presupposition.” In Proceedings of the Eighth International Workshop on Natural Language Processing for Social Media, nil. doi:10.18653/v1/2020.socialnlp-1.1.© 2019-2023 Houjun Liu. Licensed CC BY-NC-SA 4.0.', 'metadata': {'source': 'https://www.jemoka.com/posts/kbhaml_your_first_article/', 'hash': '96bbe906ad6b97f16b4d9493aee64ee1390bcca3572c22c8e467a13bc068147a', 'title': 'Web Page'}}}}\n",
      "Question 5: {'headline': '\"Section-wise Discussion in AML\"', 'relavent_input': ' with a section-wise discussion including abstract', 'resource': {'quote': 'And so, the following sections focus mostly on improving those three criteria.discussion per sectionLet’s now switch to bullet-point format, going over some ideas of how to make strong sections:abstractGuiding Questions: What is your study about?', 'chunk': {'text': 'AML: Your First ArticleHoujun Liu\\nAML: Your First Articletable of contentsexemplar we discussedoverall goalsdiscussion per sectionabstractintro/motivation/backgroundmethodsresults/dataconclusion/discussionethicsfrom the expertsHello y’all! This quick post about&mldr; writing your first “article” (ahem, MA) for this class. To me, the most rewarding part of our journey together is to be able to support everyone through writing very presentable reports—even if it is on old or simple problems—but in the format from which you can easily jump off and write a fully-blown scientific article in the future.exemplar we discussed(Kameswari, Sravani, and Mamidi 2020)I should add that, despite the word being used, this is by no means the only way that you can write a wonderful scientific article. It just had the right structure for us to go over in class :)overall goalsWe want to make reports that are clear (easily understandable for audience), concise (only uses words when needed, prioritizing figures and intuition), and precise (when making claims, they are supported clearly with data). And so, the following sections focus mostly on improving those three criteria.discussion per sectionLet’s now switch to bullet-point format, going over some ideas of how to make strong sections:abstractGuiding Questions: What is your study about? What did you do? How well did it work?more jargon here is OK, but should be immediately summative of your whole studyonly use enough jargon to make it concise: this section should be crystal clear for everyone of your academic peers (i.e. anyone in our class/familiar with ML)it should be easily skimmableintro/motivation/backgroundGuiding Questions: Why are you making big picture choices you made? Did anyone do it before you? How did they do it? What changes are you making (for this class, “none” is acceptable)?immediately, you should state what you are trying to do and why its worthwhile of your reader’s timekeep the goal scope small: not “cancer is an sickness that affects a lot of people”, but “this specific gene is correlated with cancer prognosis”justify why you are using AML tools! if the relationship you are modeling is a line, deep learning is way overkillsummarize previous work: if anyone did it before you, what approach did they do; why? Are you/why are you doing anything difference (i.e. why do you believe methods to be not as good?)methodsGuiding Questions: How did you do your study?give as much information for a peer (i.e. anyone in our class/familiar with ML) to be able to reproduce your entire studygood to think about&mldr;data sourcingdetailed notes on data preparation and feature engineering (bonus points for code)model selection + motivation (should be broadly given in the prev. section already)model implementation (layer counts, activations, seeds)(hyper)parameters (LR, batch size, epoch, optimizer momentum/beta, layer seeds) — saying “default” here is fine but be specific about what you are leaving to defaulttraining environment (hardware, library versions, time it took, etc.)Also, from a class standpoint, we want to see your hard work in actually practicing the skills we are learning!results/dataGuiding Questions: Why should your peer believe you did what you said you did?motivate validation metrics used (i.e. why is success in this validation metric a measurement by proxy of success in the stated problem in the intro?)report the clear details the withholding scheme used—simple train/val split? k-fold? leave-one-out?present in graphical or tabular form! your clear key takeaways; in general, keep words in this section to a minimum“these distributions look visually different!”“these lines are definitely parallel!”“this number is definitely larger than this other number!”During the process of “NTJ”, a paper reading methodology taught by the XRT lab, the skill of jumping abstract => data (“figures”) => takeaways (“novelty”) is greatly emphasized. Usually, the best papers will represent their key takeaways clearly and graphically in this section, so that the reader only need to go into the methods section strictly when needed to reproduce or clarify questions.conclusion/discussionGuiding Questions: Summarize.It is often good to include future work here as well as well as fascinating extensions of your choosing. This section differs from the abstract in both the inclusion of future work, as well as its audience: while the abstract need only to be crystal clear for your peers, the conclusion should be clear to everyone in the field — so redefinition of paper-specific jargon, etc.ethicsGuiding Questions: Where did your data come from; why is its collection and processing (they are independent permissions!) legal and ethical? Why are you not breaking the world?See: this Medium article for more!from the expertsNIPS (leading ML conference) rubric for a paper (jump to “Review Content” section)Kameswari, Lalitha, Dama Sravani, and Radhika Mamidi. 2020. “Enhancing Bias Detection in Political News Using Pragmatic Presupposition.” In Proceedings of the Eighth International Workshop on Natural Language Processing for Social Media, nil. doi:10.18653/v1/2020.socialnlp-1.1.© 2019-2023 Houjun Liu. Licensed CC BY-NC-SA 4.0.', 'metadata': {'source': 'https://www.jemoka.com/posts/kbhaml_your_first_article/', 'hash': '96bbe906ad6b97f16b4d9493aee64ee1390bcca3572c22c8e467a13bc068147a', 'title': 'Web Page'}}}}\n"
     ]
    }
   ],
   "source": [
    "# Perform a brainstorm search on a paragraph about sitemap\n",
    "paragraph = \"\"\"\n",
    "The main content of this page is a comprehensive guide on writing your first article, specifically focusing on the field of Applied Machine Learning (AML) [7]. It provides detailed instructions on how to structure the report, with a section-wise discussion including abstract, introduction, methods, results, conclusion, and ethics [13]. The guide also emphasizes the importance of clear, concise, and precise writing [10], and discusses the ethical considerations related to data collection and processing [31].\n",
    "\"\"\"\n",
    "\n",
    "questions = search.brainstorm(paragraph)\n",
    "\n",
    "# Print the salient questions generated by the brainstorm search\n",
    "for i, question in enumerate(questions, start=1):\n",
    "    print(f\"Question {i}: {question}\")"
   ]
  },
  {
   "cell_type": "markdown",
   "metadata": {},
   "source": [
    "Regular Document Semantic Search below:"
   ]
  },
  {
   "cell_type": "code",
   "execution_count": null,
   "metadata": {},
   "outputs": [
    {
     "name": "stdout",
     "output_type": "stream",
     "text": [
      "Result 1:\n",
      "Result 2:\n",
      "Result 3:\n",
      "Result 4:\n",
      "Result 5:\n",
      "Result 6:\n",
      "Result 7:\n",
      "Result 8:\n",
      "Result 9:\n",
      "Result 10:\n",
      "Result 11:\n",
      "Result 12:\n",
      "Result 13:\n",
      "Result 14:\n"
     ]
    }
   ],
   "source": [
    "query = \"Are the nodes system independent of the class system?\"\n",
    "results = search.search(query)\n",
    "\n",
    "# Print the search results\n",
    "for i, result in enumerate(results, start=1):\n",
    "    print(f\"Result {i}:\")\n",
    "   "
   ]
  },
  {
   "cell_type": "markdown",
   "metadata": {},
   "source": [
    "Text-Based Search on Document Titles (Autocomplete) below:"
   ]
  },
  {
   "cell_type": "code",
   "execution_count": null,
   "metadata": {},
   "outputs": [],
   "source": [
    "# Perform a text-based search on document titles \n",
    "query = \"nodes\"\n",
    "results = search.autocomplete(query)\n",
    "\n",
    "# Print the search results (titles only)\n",
    "for i, result in enumerate(results, start=1):\n",
    "    print(f\"Result {i}: {result['title']}\")"
   ]
  }
 ],
 "metadata": {
  "kernelspec": {
   "display_name": "base",
   "language": "python",
   "name": "python3"
  },
  "language_info": {
   "codemirror_mode": {
    "name": "ipython",
    "version": 3
   },
   "file_extension": ".py",
   "mimetype": "text/x-python",
   "name": "python",
   "nbconvert_exporter": "python",
   "pygments_lexer": "ipython3",
   "version": "3.9.7"
  },
  "orig_nbformat": 4
 },
 "nbformat": 4,
 "nbformat_minor": 2
}
