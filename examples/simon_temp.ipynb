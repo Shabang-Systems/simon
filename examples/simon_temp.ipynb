{
 "cells": [
  {
   "cell_type": "code",
   "execution_count": 12,
   "metadata": {},
   "outputs": [],
   "source": [
    "import simon\n",
    "from simon.ingestion import OCRIngester\n",
    "import textwrap\n"
   ]
  },
  {
   "cell_type": "code",
   "execution_count": 2,
   "metadata": {},
   "outputs": [],
   "source": [
    "context = simon.create_context(\"test-uid\")\n",
    "ds = simon.Datastore(context)"
   ]
  },
  {
   "cell_type": "code",
   "execution_count": 3,
   "metadata": {},
   "outputs": [
    {
     "name": "stderr",
     "output_type": "stream",
     "text": [
      "/Users/zhijianli/miniconda3/lib/python3.11/site-packages/simon/components/documents.py:172: GuessedAtParserWarning: No parser was explicitly specified, so I'm using the best available HTML parser for this system (\"html.parser\"). This usually isn't a problem, but if you run this code on another system, or in a different virtual environment, it may use a different parser and behave differently.\n",
      "\n",
      "The code that caused this warning is on line 172 of the file /Users/zhijianli/miniconda3/lib/python3.11/site-packages/simon/components/documents.py. To get rid of this warning, pass the additional argument 'features=\"html.parser\"' to the BeautifulSoup constructor.\n",
      "\n",
      "  soup = BeautifulSoup(html)\n"
     ]
    }
   ],
   "source": [
    "doc_hash = ds.store_remote(\n",
    "    \"https://www.math.uci.edu/admission\", \"UCI Math\")"
   ]
  },
  {
   "cell_type": "code",
   "execution_count": 4,
   "metadata": {},
   "outputs": [],
   "source": [
    "search = simon.Search(context)"
   ]
  },
  {
   "cell_type": "code",
   "execution_count": 5,
   "metadata": {},
   "outputs": [],
   "source": [
    "result = search.query(\"Is GRE subject test score required?\")"
   ]
  },
  {
   "cell_type": "code",
   "execution_count": 15,
   "metadata": {},
   "outputs": [
    {
     "name": "stdout",
     "output_type": "stream",
     "text": [
      "The GRE subject exam in Mathematics is officially\n",
      "required for MS & PhD applicants at UCI [2].\n",
      "However, an application will still be considered\n",
      "complete and fully evaluated even if the GRE\n",
      "subject exam score is not included [15]. The GRE\n",
      "General exam is optional [16].\n"
     ]
    }
   ],
   "source": [
    "print(textwrap.fill(result['answer'], 50))"
   ]
  },
  {
   "cell_type": "code",
   "execution_count": 21,
   "metadata": {},
   "outputs": [
    {
     "name": "stdout",
     "output_type": "stream",
     "text": [
      "Source 2:  GRE subject exam in Mathematics – Official scores\n",
      "are required for the Subject GRE exam, taken\n",
      "within the last five years for MS & PhD\n",
      "applicants. \n",
      "\n",
      "Source 15:  An application with all documents except for the\n",
      "GRE subject exam will still be considered complete\n",
      "and be fully evaluated.\n"
     ]
    }
   ],
   "source": [
    "print('Source 2: ', textwrap.fill(result['answer_resources'][2]['quote'], 50), '\\n')\n",
    "\n",
    "print('Source 15: ' ,textwrap.fill(result['answer_resources'][15]['quote'], 50))"
   ]
  },
  {
   "cell_type": "code",
   "execution_count": 22,
   "metadata": {},
   "outputs": [
    {
     "data": {
      "text/plain": [
       "'a7aa38d16add41e9fab0fbed7d54619bed1ed8ab844f7424cb3e8906073dfbf0'"
      ]
     },
     "execution_count": 22,
     "metadata": {},
     "output_type": "execute_result"
    }
   ],
   "source": [
    "ingester = OCRIngester(context)\n",
    "ingester.ingest_remote(\"https://www.math.uci.edu/sites/default/files/Math%20Graduate%20Student%20Handbook%20UCI_4.pdf\", \"Handbook\")"
   ]
  },
  {
   "cell_type": "code",
   "execution_count": 23,
   "metadata": {},
   "outputs": [],
   "source": [
    "result = search.query(\"What happens if I got B- for Math 210A?\")"
   ]
  },
  {
   "cell_type": "code",
   "execution_count": 26,
   "metadata": {},
   "outputs": [
    {
     "name": "stdout",
     "output_type": "stream",
     "text": [
      "If you got a B- for Math 210A, you can request an\n",
      "exception if it is used for a course requirement\n",
      "[3].\n"
     ]
    }
   ],
   "source": [
    "print(textwrap.fill(result['answer'], 50))\n"
   ]
  },
  {
   "cell_type": "code",
   "execution_count": 27,
   "metadata": {},
   "outputs": [
    {
     "name": "stdout",
     "output_type": "stream",
     "text": [
      "Source 3:  Generally (1) exception can be requested for a B-\n",
      "if it is used for a course requirement (MS or\n",
      "PhD). \n",
      "\n"
     ]
    }
   ],
   "source": [
    "print('Source 3: ', textwrap.fill(result['answer_resources'][3]['quote'], 50), '\\n')"
   ]
  },
  {
   "cell_type": "code",
   "execution_count": 29,
   "metadata": {},
   "outputs": [],
   "source": [
    "result = search.query(\"Do I have to choose an advisor in the end of my first year?\")"
   ]
  },
  {
   "cell_type": "code",
   "execution_count": 30,
   "metadata": {},
   "outputs": [
    {
     "name": "stdout",
     "output_type": "stream",
     "text": [
      "No, you do not have to choose an advisor at the\n",
      "end of your first year. You should choose an\n",
      "advisor by the beginning of your 3rd year [15]. By\n",
      "this time, you should have been exposed to many of\n",
      "the professors and their research from the\n",
      "graduate seminar [17].\n"
     ]
    }
   ],
   "source": [
    "print(textwrap.fill(result['answer'], 50))"
   ]
  },
  {
   "cell_type": "code",
   "execution_count": 31,
   "metadata": {},
   "outputs": [
    {
     "name": "stdout",
     "output_type": "stream",
     "text": [
      "Source 2:  You should choose an advisor at the latest by the\n",
      "beginning of your 3rd year. \n",
      "\n",
      "Source 15:  You should have been exposed to many of the\n",
      "professors and their research from the graduate\n",
      "seminar.\n"
     ]
    }
   ],
   "source": [
    "print('Source 2: ', textwrap.fill(result['answer_resources'][15]['quote'], 50), '\\n')\n",
    "\n",
    "print('Source 15: ' ,textwrap.fill(result['answer_resources'][17]['quote'], 50))"
   ]
  },
  {
   "cell_type": "code",
   "execution_count": 43,
   "metadata": {},
   "outputs": [],
   "source": [
    "result = search.query(\"What are the requirements to complete my Ph.D. program?\")"
   ]
  },
  {
   "cell_type": "code",
   "execution_count": 45,
   "metadata": {},
   "outputs": [
    {
     "name": "stdout",
     "output_type": "stream",
     "text": [
      "Query Result:  /Users/zhijianli/Desktop/test_simon//simon_result.html\n"
     ]
    }
   ],
   "source": [
    "from functions import display_query\n",
    "display_query(result)"
   ]
  }
 ],
 "metadata": {
  "kernelspec": {
   "display_name": "base",
   "language": "python",
   "name": "python3"
  },
  "language_info": {
   "codemirror_mode": {
    "name": "ipython",
    "version": 3
   },
   "file_extension": ".py",
   "mimetype": "text/x-python",
   "name": "python",
   "nbconvert_exporter": "python",
   "pygments_lexer": "ipython3",
   "version": "3.11.4"
  },
  "orig_nbformat": 4
 },
 "nbformat": 4,
 "nbformat_minor": 2
}
